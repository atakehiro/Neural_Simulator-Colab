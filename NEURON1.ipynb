{
  "nbformat": 4,
  "nbformat_minor": 0,
  "metadata": {
    "colab": {
      "name": "NEURON1.ipynb",
      "provenance": [],
      "collapsed_sections": []
    },
    "kernelspec": {
      "name": "python3",
      "display_name": "Python 3"
    }
  },
  "cells": [
    {
      "cell_type": "markdown",
      "metadata": {
        "id": "VmM4FSfr8zDF",
        "colab_type": "text"
      },
      "source": [
        "# NEURONによる神経シミュレーション\n",
        "\n",
        "PCにPythonをインストールして行ことも出来ますが、設定が煩雑であるため難しいです。\n",
        "\n",
        "そこで、GoogleColabを使用すればGoogleアカウントがあれば遠隔でまた無料で使用可能です。12時間まで連続使用来ます。\n",
        "\n",
        "順番に Shift + Enter を押していくだけで、シミュレーションが可能です。\n",
        "\n",
        "参考資料\n",
        "\n",
        "１．NEURONのPythonチュートリアル https://neuron.yale.edu/neuron/docs/scripting-neuron-basics \n",
        "\n",
        "２．井本研究室のホームページ https://www.nips.ac.jp/huinfo/documents/index.htm \n",
        "\n",
        "３．NEURON+Pythonによるはじめての神経細胞シミュレーション　https://qiita.com/DaisukeMiyamoto/items/69821c254cebc3de2879"
      ]
    },
    {
      "cell_type": "markdown",
      "metadata": {
        "id": "n4Ppn9tg9rOn",
        "colab_type": "text"
      },
      "source": [
        "## NEURONパッケージのインストール"
      ]
    },
    {
      "cell_type": "code",
      "metadata": {
        "id": "NhDBur0o2TPI",
        "colab_type": "code",
        "colab": {
          "base_uri": "https://localhost:8080/",
          "height": 53
        },
        "outputId": "aa16b23e-afcb-44c8-bc88-91ad77353d5a"
      },
      "source": [
        "!pip install neuron"
      ],
      "execution_count": null,
      "outputs": [
        {
          "output_type": "stream",
          "text": [
            "Requirement already satisfied: neuron in /usr/local/lib/python3.6/dist-packages (7.8.1.1)\n",
            "Requirement already satisfied: numpy>=1.9.3 in /usr/local/lib/python3.6/dist-packages (from neuron) (1.18.5)\n"
          ],
          "name": "stdout"
        }
      ]
    },
    {
      "cell_type": "markdown",
      "metadata": {
        "id": "JCLN3BDg8cUQ",
        "colab_type": "text"
      },
      "source": [
        "これで、GoogleColab上でNEURONが使えるようになりました。(制限時間12時間)\n",
        "\n",
        "次からは、デモを行います。\n",
        "まずは井本研究室のホームページから https://www.nips.ac.jp/huinfo/documents/index.htm\n",
        "\n"
      ]
    },
    {
      "cell_type": "markdown",
      "metadata": {
        "id": "NLA9TDxU_Lay",
        "colab_type": "text"
      },
      "source": [
        "## デモ　パッチクランプ法のシミュレーション"
      ]
    },
    {
      "cell_type": "code",
      "metadata": {
        "id": "z54ydbDtKzrL",
        "colab_type": "code",
        "colab": {}
      },
      "source": [
        "from neuron import h\n",
        "import neuron\n",
        "import numpy as np\n",
        "import matplotlib.pyplot as plt"
      ],
      "execution_count": null,
      "outputs": []
    },
    {
      "cell_type": "code",
      "metadata": {
        "id": "4bZWRiCy_S9r",
        "colab_type": "code",
        "colab": {
          "base_uri": "https://localhost:8080/",
          "height": 35
        },
        "outputId": "af27c7d4-5e0b-4a11-a94f-b99bc11489a9"
      },
      "source": [
        "# 神経細胞の設定\n",
        "soma = h.Section()\n",
        "soma.diam = 30.0 # 細胞の直径(micron)\n",
        "soma.L = 30.0 # 細胞の長さ(micron)\n",
        "soma.insert('hh')  # ホジキン・ハックスレーモデルに切り替え\n",
        "\n",
        "# Current Campの設定\n",
        "ic = h.IClamp(0.5, sec=soma) # Current Clampを設定。0.5はsomaにおける位置\n",
        "ic.delay = 20.0   # 開始時間(ms)\n",
        "ic.dur   = 100.0  # 持続時間(ms)\n",
        "ic.amp   = 0.6     # 固定電流(nA)\n",
        "\n",
        "# 微分方程式の数値計算の設定\n",
        "cvode = h.CVode()\n",
        "cvode.active(1)\n",
        "cvode.atol(1.0e-5)     "
      ],
      "execution_count": null,
      "outputs": [
        {
          "output_type": "execute_result",
          "data": {
            "text/plain": [
              "1e-05"
            ]
          },
          "metadata": {
            "tags": []
          },
          "execution_count": 73
        }
      ]
    },
    {
      "cell_type": "code",
      "metadata": {
        "id": "jwlf8xKw_TnC",
        "colab_type": "code",
        "colab": {
          "base_uri": "https://localhost:8080/",
          "height": 35
        },
        "outputId": "a5da8128-4e9b-4fdd-da66-1f2cbca0992c"
      },
      "source": [
        "# 記録変数の設定\n",
        "vv = h.Vector()      # membrane potential vector\n",
        "tv = h.Vector()      # time stamp vector\n",
        "cv = h.Vector()      # current size\n",
        "vv.record(soma(0.5)._ref_v) # 0.5はsomaにおける位置\n",
        "tv.record(h._ref_t)\n",
        "cv.record(ic._ref_i)"
      ],
      "execution_count": null,
      "outputs": [
        {
          "output_type": "execute_result",
          "data": {
            "text/plain": [
              "Vector[42]"
            ]
          },
          "metadata": {
            "tags": []
          },
          "execution_count": 74
        }
      ]
    },
    {
      "cell_type": "code",
      "metadata": {
        "id": "bW5U0eAMLD_E",
        "colab_type": "code",
        "colab": {}
      },
      "source": [
        "# シミュレーション実行\n",
        "tstop = 200.0 # 総時間(ms)\n",
        "v_init = -65.0 # 初期の膜電位(mV)\n",
        "h.finitialize(v_init)\n",
        "h.fcurrent()\n",
        "neuron.run(tstop)"
      ],
      "execution_count": null,
      "outputs": []
    },
    {
      "cell_type": "code",
      "metadata": {
        "id": "M_xtVX_gLG13",
        "colab_type": "code",
        "colab": {
          "base_uri": "https://localhost:8080/",
          "height": 279
        },
        "outputId": "227700a1-a287-4dab-f448-8693211a0b28"
      },
      "source": [
        "# プロット作成\n",
        "ax1 = plt.subplot()\n",
        "ax2 = ax1.twinx()\n",
        "ax1.plot(tv.as_numpy(), vv.as_numpy(), color=\"blue\", label= \"Menbrame Potential\")\n",
        "ax1.set_ylabel('Potential (mV)')\n",
        "ax2.plot(tv.as_numpy(), cv.as_numpy(), color=\"red\", label= \"Clamp Current\")\n",
        "ax2.set_ylabel('Current (nA)')\n",
        "ax1.legend(bbox_to_anchor=(0.58, 0.9))\n",
        "ax2.legend(bbox_to_anchor=(0.63, 0.8))\n",
        "ax1.set_xlabel('Time (ms)')\n",
        "plt.show()"
      ],
      "execution_count": null,
      "outputs": [
        {
          "output_type": "display_data",
          "data": {
            "image/png": "[encoded data removed]",
            "text/plain": [
              "<Figure size 432x288 with 2 Axes>"
            ]
          },
          "metadata": {
            "tags": [],
            "needs_background": "light"
          }
        }
      ]
    }
  ]
}